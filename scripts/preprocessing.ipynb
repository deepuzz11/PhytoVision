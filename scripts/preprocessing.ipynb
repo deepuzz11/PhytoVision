{
 "cells": [
  {
   "cell_type": "code",
   "execution_count": null,
   "metadata": {},
   "outputs": [
    {
     "name": "stdout",
     "output_type": "stream",
     "text": [
      "Listing files in ../Flavia leaves dataset/:\n",
      "['1001.jpg', '1002.jpg', '1003.jpg', '1004.jpg', '1005.jpg', '1006.jpg', '1007.jpg', '1008.jpg', '1009.jpg', '1010.jpg', '1011.jpg', '1012.jpg', '1013.jpg', '1014.jpg', '1015.jpg', '1016.jpg', '1017.jpg', '1018.jpg', '1019.jpg', '1020.jpg', '1021.jpg', '1022.jpg', '1023.jpg', '1024.jpg', '1025.jpg', '1026.jpg', '1027.jpg', '1028.jpg', '1029.jpg', '1030.jpg', '1031.jpg', '1032.jpg', '1033.jpg', '1034.jpg', '1035.jpg', '1036.jpg', '1037.jpg', '1038.jpg', '1039.jpg', '1040.jpg', '1041.jpg', '1042.jpg', '1043.jpg', '1044.jpg', '1045.jpg', '1046.jpg', '1047.jpg', '1048.jpg', '1049.jpg', '1050.jpg', '1051.jpg', '1052.jpg', '1053.jpg', '1054.jpg', '1055.jpg', '1056.jpg', '1057.jpg', '1058.jpg', '1059.jpg', '1060.jpg', '1061.jpg', '1062.jpg', '1063.jpg', '1064.jpg', '1065.jpg', '1066.jpg', '1067.jpg', '1068.jpg', '1069.jpg', '1070.jpg', '1071.jpg', '1072.jpg', '1073.jpg', '1074.jpg', '1075.jpg', '1076.jpg', '1077.jpg', '1078.jpg', '1079.jpg', '1080.jpg', '1081.jpg', '1082.jpg', '1083.jpg', '1084.jpg', '1085.jpg', '1086.jpg', '1087.jpg', '1088.jpg', '1089.jpg', '1090.jpg', '1091.jpg', '1092.jpg', '1093.jpg', '1094.jpg', '1095.jpg', '1096.jpg', '1097.jpg', '1098.jpg', '1099.jpg', '1100.jpg']\n",
      "Dataset saved as ../data/Flavia_features.csv\n"
     ]
    }
   ],
   "source": [
    "import os\n",
    "import pandas as pd\n",
    "import nbimporter\n",
    "\n",
    "# Reusing functions from single_preprocessing.ipynb\n",
    "from single_preprocessing import (\n",
    "    convert_to_grayscale,\n",
    "    smooth_image,\n",
    "    apply_threshold,\n",
    "    close_holes,\n",
    "    extract_shape_features,\n",
    "    extract_color_features,\n",
    "    extract_texture_features\n",
    ")\n",
    "\n",
    "# Function to create dataset\n",
    "def create_dataset(dataset_path, save_path=\"../data/Flavia_features.csv\"):\n",
    "    data = []\n",
    "    \n",
    "    # Check if dataset folder exists\n",
    "    if not os.path.exists(dataset_path):\n",
    "        print(f\"Error: The folder {dataset_path} does not exist!\")\n",
    "        return\n",
    "\n",
    "    # List images in the dataset folder\n",
    "    print(f\"Listing files in {dataset_path}:\")\n",
    "    print(os.listdir(dataset_path))\n",
    "    \n",
    "    for image_name in os.listdir(dataset_path):\n",
    "        image_path = os.path.join(dataset_path, image_name)\n",
    "        gray_image = convert_to_grayscale(image_path)\n",
    "        smoothed_image = smooth_image(gray_image)\n",
    "        binary_image = apply_threshold(smoothed_image)\n",
    "        closed_image = close_holes(binary_image)\n",
    "\n",
    "        shape = extract_shape_features(closed_image)\n",
    "        color = extract_color_features(image_path)\n",
    "        texture = extract_texture_features(gray_image)\n",
    "        features = {**shape, **color, **texture, \"label\": image_name.split(\"_\")[0]}  # Assuming label is part of file name\n",
    "        data.append(features)\n",
    "\n",
    "    df = pd.DataFrame(data)\n",
    "    df.to_csv(save_path, index=False)\n",
    "    print(f\"Dataset saved as {save_path}\")\n",
    "\n",
    "# Usage\n",
    "dataset_path = \"../Flavia leaves dataset/\"  # Update with correct path if needed\n",
    "create_dataset(dataset_path)\n"
   ]
  }
 ],
 "metadata": {
  "kernelspec": {
   "display_name": "base",
   "language": "python",
   "name": "python3"
  },
  "language_info": {
   "codemirror_mode": {
    "name": "ipython",
    "version": 3
   },
   "file_extension": ".py",
   "mimetype": "text/x-python",
   "name": "python",
   "nbconvert_exporter": "python",
   "pygments_lexer": "ipython3",
   "version": "3.9.13"
  }
 },
 "nbformat": 4,
 "nbformat_minor": 2
}
