{
 "cells": [
  {
   "cell_type": "markdown",
   "metadata": {},
   "source": [
    "## Importing Libraries"
   ]
  },
  {
   "cell_type": "code",
   "execution_count": 2,
   "metadata": {},
   "outputs": [],
   "source": [
    "# Importing necessary libraries\n",
    "import pandas as pd\n",
    "import numpy as np\n",
    "import seaborn as sns\n",
    "import matplotlib.pyplot as plt\n",
    "from sklearn.model_selection import train_test_split\n",
    "from sklearn.preprocessing import StandardScaler\n",
    "from sklearn.svm import SVC\n",
    "from sklearn.metrics import accuracy_score, classification_report, confusion_matrix\n",
    "import joblib  # For saving the model\n"
   ]
  },
  {
   "cell_type": "markdown",
   "metadata": {},
   "source": [
    "## Loading the dataset"
   ]
  },
  {
   "cell_type": "code",
   "execution_count": 3,
   "metadata": {},
   "outputs": [
    {
     "data": {
      "text/html": [
       "<div>\n",
       "<style scoped>\n",
       "    .dataframe tbody tr th:only-of-type {\n",
       "        vertical-align: middle;\n",
       "    }\n",
       "\n",
       "    .dataframe tbody tr th {\n",
       "        vertical-align: top;\n",
       "    }\n",
       "\n",
       "    .dataframe thead th {\n",
       "        text-align: right;\n",
       "    }\n",
       "</style>\n",
       "<table border=\"1\" class=\"dataframe\">\n",
       "  <thead>\n",
       "    <tr style=\"text-align: right;\">\n",
       "      <th></th>\n",
       "      <th>area</th>\n",
       "      <th>perimeter</th>\n",
       "      <th>aspect_ratio</th>\n",
       "      <th>rectangularity</th>\n",
       "      <th>circularity</th>\n",
       "      <th>mean_r</th>\n",
       "      <th>std_r</th>\n",
       "      <th>mean_g</th>\n",
       "      <th>std_g</th>\n",
       "      <th>mean_b</th>\n",
       "      <th>std_b</th>\n",
       "      <th>contrast</th>\n",
       "      <th>correlation</th>\n",
       "      <th>inverse_difference_moments</th>\n",
       "      <th>entropy</th>\n",
       "      <th>label</th>\n",
       "    </tr>\n",
       "  </thead>\n",
       "  <tbody>\n",
       "    <tr>\n",
       "      <th>0</th>\n",
       "      <td>1720250</td>\n",
       "      <td>9106.249276</td>\n",
       "      <td>1.321223</td>\n",
       "      <td>0.895964</td>\n",
       "      <td>0.260689</td>\n",
       "      <td>233.042456</td>\n",
       "      <td>64.064546</td>\n",
       "      <td>240.572296</td>\n",
       "      <td>42.356737</td>\n",
       "      <td>230.722686</td>\n",
       "      <td>70.439153</td>\n",
       "      <td>12.639688</td>\n",
       "      <td>0.997666</td>\n",
       "      <td>0.911738</td>\n",
       "      <td>1.688689</td>\n",
       "      <td>1001.jpg</td>\n",
       "    </tr>\n",
       "    <tr>\n",
       "      <th>1</th>\n",
       "      <td>1817852</td>\n",
       "      <td>8129.452886</td>\n",
       "      <td>1.328055</td>\n",
       "      <td>0.946798</td>\n",
       "      <td>0.345657</td>\n",
       "      <td>244.073543</td>\n",
       "      <td>45.414889</td>\n",
       "      <td>247.329901</td>\n",
       "      <td>32.024069</td>\n",
       "      <td>242.724323</td>\n",
       "      <td>49.847930</td>\n",
       "      <td>8.137424</td>\n",
       "      <td>0.997191</td>\n",
       "      <td>0.944818</td>\n",
       "      <td>1.193795</td>\n",
       "      <td>1002.jpg</td>\n",
       "    </tr>\n",
       "    <tr>\n",
       "      <th>2</th>\n",
       "      <td>1832310</td>\n",
       "      <td>7928.683333</td>\n",
       "      <td>1.345701</td>\n",
       "      <td>0.954328</td>\n",
       "      <td>0.366274</td>\n",
       "      <td>245.420139</td>\n",
       "      <td>43.430021</td>\n",
       "      <td>248.636254</td>\n",
       "      <td>29.024985</td>\n",
       "      <td>244.258054</td>\n",
       "      <td>48.248481</td>\n",
       "      <td>8.553729</td>\n",
       "      <td>0.996610</td>\n",
       "      <td>0.959023</td>\n",
       "      <td>0.848758</td>\n",
       "      <td>1003.jpg</td>\n",
       "    </tr>\n",
       "    <tr>\n",
       "      <th>3</th>\n",
       "      <td>1727712</td>\n",
       "      <td>8536.035713</td>\n",
       "      <td>1.327078</td>\n",
       "      <td>0.899850</td>\n",
       "      <td>0.297967</td>\n",
       "      <td>234.287985</td>\n",
       "      <td>61.532224</td>\n",
       "      <td>240.416826</td>\n",
       "      <td>43.685299</td>\n",
       "      <td>232.272938</td>\n",
       "      <td>67.075823</td>\n",
       "      <td>8.440064</td>\n",
       "      <td>0.998419</td>\n",
       "      <td>0.914331</td>\n",
       "      <td>1.673914</td>\n",
       "      <td>1004.jpg</td>\n",
       "    </tr>\n",
       "    <tr>\n",
       "      <th>4</th>\n",
       "      <td>1689034</td>\n",
       "      <td>8731.781925</td>\n",
       "      <td>1.296674</td>\n",
       "      <td>0.879705</td>\n",
       "      <td>0.278383</td>\n",
       "      <td>230.049934</td>\n",
       "      <td>66.982203</td>\n",
       "      <td>238.373617</td>\n",
       "      <td>44.929827</td>\n",
       "      <td>226.924000</td>\n",
       "      <td>74.989247</td>\n",
       "      <td>8.641447</td>\n",
       "      <td>0.998568</td>\n",
       "      <td>0.898644</td>\n",
       "      <td>1.968081</td>\n",
       "      <td>1005.jpg</td>\n",
       "    </tr>\n",
       "  </tbody>\n",
       "</table>\n",
       "</div>"
      ],
      "text/plain": [
       "      area    perimeter  aspect_ratio  rectangularity  circularity  \\\n",
       "0  1720250  9106.249276      1.321223        0.895964     0.260689   \n",
       "1  1817852  8129.452886      1.328055        0.946798     0.345657   \n",
       "2  1832310  7928.683333      1.345701        0.954328     0.366274   \n",
       "3  1727712  8536.035713      1.327078        0.899850     0.297967   \n",
       "4  1689034  8731.781925      1.296674        0.879705     0.278383   \n",
       "\n",
       "       mean_r      std_r      mean_g      std_g      mean_b      std_b  \\\n",
       "0  233.042456  64.064546  240.572296  42.356737  230.722686  70.439153   \n",
       "1  244.073543  45.414889  247.329901  32.024069  242.724323  49.847930   \n",
       "2  245.420139  43.430021  248.636254  29.024985  244.258054  48.248481   \n",
       "3  234.287985  61.532224  240.416826  43.685299  232.272938  67.075823   \n",
       "4  230.049934  66.982203  238.373617  44.929827  226.924000  74.989247   \n",
       "\n",
       "    contrast  correlation  inverse_difference_moments   entropy     label  \n",
       "0  12.639688     0.997666                    0.911738  1.688689  1001.jpg  \n",
       "1   8.137424     0.997191                    0.944818  1.193795  1002.jpg  \n",
       "2   8.553729     0.996610                    0.959023  0.848758  1003.jpg  \n",
       "3   8.440064     0.998419                    0.914331  1.673914  1004.jpg  \n",
       "4   8.641447     0.998568                    0.898644  1.968081  1005.jpg  "
      ]
     },
     "execution_count": 3,
     "metadata": {},
     "output_type": "execute_result"
    }
   ],
   "source": [
    "# Load the dataset\n",
    "csv_path = \"data/Flavia_features.csv\"  # Update the path as necessary\n",
    "data = pd.read_csv(csv_path)\n",
    "\n",
    "# Display first few rows of the dataset\n",
    "data.head()"
   ]
  },
  {
   "cell_type": "markdown",
   "metadata": {},
   "source": [
    "## Exploratory Data Analysis (EDA)"
   ]
  },
  {
   "cell_type": "code",
   "execution_count": 4,
   "metadata": {},
   "outputs": [
    {
     "name": "stdout",
     "output_type": "stream",
     "text": [
      "Column names: Index(['area', 'perimeter', 'aspect_ratio', 'rectangularity', 'circularity',\n",
      "       'mean_r', 'std_r', 'mean_g', 'std_g', 'mean_b', 'std_b', 'contrast',\n",
      "       'correlation', 'inverse_difference_moments', 'entropy', 'label'],\n",
      "      dtype='object')\n",
      "Missing Values in Dataset:\n",
      " area                          0\n",
      "perimeter                     0\n",
      "aspect_ratio                  0\n",
      "rectangularity                0\n",
      "circularity                   0\n",
      "mean_r                        0\n",
      "std_r                         0\n",
      "mean_g                        0\n",
      "std_g                         0\n",
      "mean_b                        0\n",
      "std_b                         0\n",
      "contrast                      0\n",
      "correlation                   0\n",
      "inverse_difference_moments    0\n",
      "entropy                       0\n",
      "label                         0\n",
      "dtype: int64\n",
      "\n",
      "Label Distribution:\n",
      " 1.321223    1\n",
      "1.406822    1\n",
      "1.379280    1\n",
      "1.387646    1\n",
      "1.432466    1\n",
      "           ..\n",
      "1.334081    1\n",
      "1.333931    1\n",
      "1.335634    1\n",
      "1.337079    1\n",
      "1.421038    1\n",
      "Name: aspect_ratio, Length: 100, dtype: int64\n",
      "\n",
      "Statistical Summary:\n",
      "                area     perimeter  aspect_ratio  rectangularity  circularity  \\\n",
      "count  1.000000e+02    100.000000    100.000000      100.000000   100.000000   \n",
      "mean   1.454902e+06   9778.391215      1.358825        0.757761     0.199969   \n",
      "std    2.318988e+05    888.600583      0.049037        0.120781     0.059679   \n",
      "min    1.026192e+06   7928.683333      1.245299        0.534475     0.097238   \n",
      "25%    1.210864e+06   9255.103180      1.326547        0.630658     0.141122   \n",
      "50%    1.548978e+06   9394.152955      1.338634        0.806759     0.219619   \n",
      "75%    1.660230e+06  10237.507636      1.386795        0.864703     0.242734   \n",
      "max    1.832310e+06  12316.480082      1.496485        0.954328     0.366274   \n",
      "\n",
      "           mean_r       std_r      mean_g       std_g      mean_b       std_b  \\\n",
      "count  100.000000  100.000000  100.000000  100.000000  100.000000  100.000000   \n",
      "mean   208.371431   78.726700  229.114914   46.220106  200.817543   90.000453   \n",
      "std     21.505027   11.587126    9.348650    5.023745   26.430639   15.397935   \n",
      "min    171.466555   43.430021  209.654697   29.024985  153.446206   48.248481   \n",
      "25%    186.748861   69.402678  222.436279   43.606885  173.378428   77.171694   \n",
      "50%    216.499321   77.931078  231.190802   46.220869  212.254625   87.541058   \n",
      "75%    227.513596   89.877135  236.830589   49.410764  224.072418  105.669734   \n",
      "max    245.420139   96.246987  248.636254   56.610694  244.258054  112.188753   \n",
      "\n",
      "         contrast  correlation  inverse_difference_moments     entropy  \n",
      "count  100.000000   100.000000                  100.000000  100.000000  \n",
      "mean    16.278205     0.997813                    0.797608    3.467286  \n",
      "std      5.195285     0.000509                    0.098545    1.488398  \n",
      "min      8.137424     0.996047                    0.623786    0.848758  \n",
      "25%     12.517213     0.997495                    0.690969    2.174707  \n",
      "50%     15.012126     0.997847                    0.841952    2.836123  \n",
      "75%     19.948641     0.998171                    0.883506    5.130453  \n",
      "max     33.239281     0.998740                    0.959023    5.937240  \n"
     ]
    },
    {
     "data": {
      "image/png": "[encoded data removed]",
      "text/plain": [
       "<Figure size 640x480 with 1 Axes>"
      ]
     },
     "metadata": {},
     "output_type": "display_data"
    }
   ],
   "source": [
    "print(\"Column names:\", data.columns)\n",
    "\n",
    "# Check for missing values\n",
    "print(\"Missing Values in Dataset:\\n\", data.isnull().sum())\n",
    "\n",
    "# Displaying the distribution of the label (after identifying correct label column name)\n",
    "label_column_name = \"aspect_ratio\"  \n",
    "print(\"\\nLabel Distribution:\\n\", data[label_column_name].value_counts())\n",
    "\n",
    "# Statistical summary of the dataset\n",
    "print(\"\\nStatistical Summary:\\n\", data.describe())\n",
    "\n",
    "# Visualizing the distribution of the labels\n",
    "sns.countplot(x=label_column_name, data=data)\n",
    "plt.title('Label Distribution')\n",
    "plt.show()"
   ]
  },
  {
   "cell_type": "markdown",
   "metadata": {},
   "source": [
    "## Data Preprocessing"
   ]
  },
  {
   "cell_type": "code",
   "execution_count": 45,
   "metadata": {},
   "outputs": [
    {
     "name": "stdout",
     "output_type": "stream",
     "text": [
      "Model Accuracy: 0.9808027923211169\n"
     ]
    }
   ],
   "source": [
    "# Define the target variable based on aspect_ratio\n",
    "# Classify aspect ratios greater than 2 as class 1, otherwise class 0\n",
    "data['label'] = (data['aspect_ratio'] > 2).astype(int)\n",
    "\n",
    "# Split features (X) and target (y)\n",
    "X = data.drop(\"label\", axis=1)\n",
    "y = data[\"label\"]\n",
    "\n",
    "# Split data into training and testing sets\n",
    "X_train, X_test, y_train, y_test = train_test_split(X, y, test_size=0.3, random_state=42)\n",
    "\n",
    "# Scale features\n",
    "scaler = StandardScaler()\n",
    "X_train_scaled = scaler.fit_transform(X_train)\n",
    "X_test_scaled = scaler.transform(X_test)\n",
    "\n",
    "# Train the SVM model\n",
    "svm_model = SVC(kernel=\"rbf\", C=10, gamma=0.1, random_state=42)\n",
    "svm_model.fit(X_train_scaled, y_train)\n",
    "\n",
    "# Evaluate the model\n",
    "y_pred = svm_model.predict(X_test_scaled)\n",
    "accuracy = accuracy_score(y_test, y_pred)\n",
    "print(\"Model Accuracy:\", accuracy)\n"
   ]
  },
  {
   "cell_type": "markdown",
   "metadata": {},
   "source": [
    "## Model Training"
   ]
  },
  {
   "cell_type": "code",
   "execution_count": 46,
   "metadata": {},
   "outputs": [
    {
     "data": {
      "text/plain": [
       "['scaler.pkl']"
      ]
     },
     "execution_count": 46,
     "metadata": {},
     "output_type": "execute_result"
    }
   ],
   "source": [
    "# Initialize and train the SVM classifier\n",
    "svm_model = SVC(kernel=\"rbf\", C=10, gamma=0.1, random_state=42)\n",
    "svm_model.fit(X_train_scaled, y_train)\n",
    "\n",
    "# Save the trained model and scaler\n",
    "joblib.dump(svm_model, \"svm_model.pkl\")\n",
    "joblib.dump(scaler, \"scaler.pkl\")\n"
   ]
  },
  {
   "cell_type": "markdown",
   "metadata": {},
   "source": [
    "## Model Evaluation"
   ]
  },
  {
   "cell_type": "code",
   "execution_count": 47,
   "metadata": {},
   "outputs": [
    {
     "name": "stdout",
     "output_type": "stream",
     "text": [
      "Model Accuracy: 0.9808027923211169\n",
      "\n",
      "Classification Report:\n",
      "               precision    recall  f1-score   support\n",
      "\n",
      "           0       0.99      0.99      0.99       485\n",
      "           1       0.95      0.92      0.94        88\n",
      "\n",
      "    accuracy                           0.98       573\n",
      "   macro avg       0.97      0.96      0.96       573\n",
      "weighted avg       0.98      0.98      0.98       573\n",
      "\n",
      "\n",
      "Confusion Matrix:\n",
      " [[481   4]\n",
      " [  7  81]]\n"
     ]
    },
    {
     "data": {
      "image/png": "[encoded data removed]",
      "text/plain": [
       "<Figure size 640x480 with 2 Axes>"
      ]
     },
     "metadata": {},
     "output_type": "display_data"
    }
   ],
   "source": [
    "# Predict the labels on the test set\n",
    "y_pred = svm_model.predict(X_test_scaled)\n",
    "\n",
    "# Evaluate the model's performance\n",
    "accuracy = accuracy_score(y_test, y_pred)\n",
    "print(\"Model Accuracy:\", accuracy)\n",
    "\n",
    "# Display Classification Report\n",
    "print(\"\\nClassification Report:\\n\", classification_report(y_test, y_pred))\n",
    "\n",
    "# Display Confusion Matrix\n",
    "conf_matrix = confusion_matrix(y_test, y_pred)\n",
    "print(\"\\nConfusion Matrix:\\n\", conf_matrix)\n",
    "\n",
    "# Visualizing the confusion matrix\n",
    "sns.heatmap(conf_matrix, annot=True, fmt='d', cmap='Blues', xticklabels=[0, 1], yticklabels=[0, 1])\n",
    "plt.title(\"Confusion Matrix\")\n",
    "plt.xlabel(\"Predicted\")\n",
    "plt.ylabel(\"Actual\")\n",
    "plt.show()\n"
   ]
  },
  {
   "cell_type": "markdown",
   "metadata": {},
   "source": [
    "## Findings and Accuracy"
   ]
  },
  {
   "cell_type": "code",
   "execution_count": 48,
   "metadata": {},
   "outputs": [
    {
     "name": "stdout",
     "output_type": "stream",
     "text": [
      "\n",
      "Model Accuracy: 0.9808027923211169\n",
      "Classification Report:\n",
      "              precision    recall  f1-score   support\n",
      "\n",
      "           0       0.99      0.99      0.99       485\n",
      "           1       0.95      0.92      0.94        88\n",
      "\n",
      "    accuracy                           0.98       573\n",
      "   macro avg       0.97      0.96      0.96       573\n",
      "weighted avg       0.98      0.98      0.98       573\n",
      "\n",
      "\n",
      "Confusion Matrix:\n",
      "[[481   4]\n",
      " [  7  81]]\n",
      "\n"
     ]
    }
   ],
   "source": [
    "# Displaying the findings\n",
    "findings = f\"\"\"\n",
    "Model Accuracy: {accuracy}\n",
    "Classification Report:\n",
    "{classification_report(y_test, y_pred)}\n",
    "\n",
    "Confusion Matrix:\n",
    "{conf_matrix}\n",
    "\"\"\"\n",
    "\n",
    "print(findings)\n",
    "\n",
    "# Save the findings to a text file\n",
    "with open(\"model_findings.txt\", \"w\") as f:\n",
    "    f.write(findings)\n"
   ]
  },
  {
   "cell_type": "code",
   "execution_count": 49,
   "metadata": {},
   "outputs": [
    {
     "data": {
      "image/png": "[encoded data removed]",
      "text/plain": [
       "<Figure size 640x480 with 1 Axes>"
      ]
     },
     "metadata": {},
     "output_type": "display_data"
    }
   ],
   "source": [
    "from sklearn.metrics import roc_curve, roc_auc_score\n",
    "import matplotlib.pyplot as plt\n",
    "\n",
    "y_prob = svm_model.decision_function(X_test_scaled)\n",
    "fpr, tpr, thresholds = roc_curve(y_test, y_prob)\n",
    "auc_score = roc_auc_score(y_test, y_prob)\n",
    "\n",
    "plt.plot(fpr, tpr, label=f\"AUC = {auc_score:.2f}\")\n",
    "plt.xlabel(\"False Positive Rate\")\n",
    "plt.ylabel(\"True Positive Rate\")\n",
    "plt.title(\"ROC Curve\")\n",
    "plt.legend()\n",
    "plt.show()\n"
   ]
  },
  {
   "cell_type": "markdown",
   "metadata": {},
   "source": [
    "## Feature Importance Analysis"
   ]
  },
  {
   "cell_type": "markdown",
   "metadata": {},
   "source": [
    "### Using PCA"
   ]
  },
  {
   "cell_type": "code",
   "execution_count": 50,
   "metadata": {},
   "outputs": [
    {
     "name": "stdout",
     "output_type": "stream",
     "text": [
      "Explained Variance Ratios: [0.4133076  0.18196879]\n"
     ]
    }
   ],
   "source": [
    "from sklearn.decomposition import PCA\n",
    "\n",
    "pca = PCA(n_components=2)\n",
    "X_train_pca = pca.fit_transform(X_train_scaled)\n",
    "X_test_pca = pca.transform(X_test_scaled)\n",
    "\n",
    "print(\"Explained Variance Ratios:\", pca.explained_variance_ratio_)\n"
   ]
  },
  {
   "cell_type": "markdown",
   "metadata": {},
   "source": [
    "### Permutational Feature Importance"
   ]
  },
  {
   "cell_type": "code",
   "execution_count": 51,
   "metadata": {},
   "outputs": [
    {
     "name": "stdout",
     "output_type": "stream",
     "text": [
      "Explained Variance Ratios: [0.4133076  0.18196879]\n"
     ]
    }
   ],
   "source": [
    "from sklearn.decomposition import PCA\n",
    "\n",
    "pca = PCA(n_components=2)\n",
    "X_train_pca = pca.fit_transform(X_train_scaled)\n",
    "X_test_pca = pca.transform(X_test_scaled)\n",
    "\n",
    "print(\"Explained Variance Ratios:\", pca.explained_variance_ratio_)\n"
   ]
  }
 ],
 "metadata": {
  "kernelspec": {
   "display_name": "base",
   "language": "python",
   "name": "python3"
  },
  "language_info": {
   "codemirror_mode": {
    "name": "ipython",
    "version": 3
   },
   "file_extension": ".py",
   "mimetype": "text/x-python",
   "name": "python",
   "nbconvert_exporter": "python",
   "pygments_lexer": "ipython3",
   "version": "3.9.13"
  }
 },
 "nbformat": 4,
 "nbformat_minor": 2
}
