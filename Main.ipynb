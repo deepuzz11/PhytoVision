{
 "cells": [
  {
   "cell_type": "markdown",
   "metadata": {},
   "source": []
  },
  {
   "cell_type": "markdown",
   "metadata": {},
   "source": [
    "## Importing Libraries"
   ]
  },
  {
   "cell_type": "code",
   "execution_count": 39,
   "metadata": {},
   "outputs": [],
   "source": [
    "# Importing necessary libraries\n",
    "import pandas as pd\n",
    "import numpy as np\n",
    "import seaborn as sns\n",
    "import matplotlib.pyplot as plt\n",
    "from sklearn.model_selection import train_test_split\n",
    "from sklearn.preprocessing import StandardScaler\n",
    "from sklearn.svm import SVC\n",
    "from sklearn.metrics import accuracy_score, classification_report, confusion_matrix\n",
    "import joblib  # For saving the model\n"
   ]
  },
  {
   "cell_type": "markdown",
   "metadata": {},
   "source": [
    "## Loading the dataset"
   ]
  },
  {
   "cell_type": "code",
   "execution_count": 43,
   "metadata": {},
   "outputs": [
    {
     "data": {
      "text/html": [
       "<div>\n",
       "<style scoped>\n",
       "    .dataframe tbody tr th:only-of-type {\n",
       "        vertical-align: middle;\n",
       "    }\n",
       "\n",
       "    .dataframe tbody tr th {\n",
       "        vertical-align: top;\n",
       "    }\n",
       "\n",
       "    .dataframe thead th {\n",
       "        text-align: right;\n",
       "    }\n",
       "</style>\n",
       "<table border=\"1\" class=\"dataframe\">\n",
       "  <thead>\n",
       "    <tr style=\"text-align: right;\">\n",
       "      <th></th>\n",
       "      <th>Unnamed: 0</th>\n",
       "      <th>area</th>\n",
       "      <th>perimeter</th>\n",
       "      <th>physiological_length</th>\n",
       "      <th>physiological_width</th>\n",
       "      <th>aspect_ratio</th>\n",
       "      <th>rectangularity</th>\n",
       "      <th>circularity</th>\n",
       "      <th>mean_r</th>\n",
       "      <th>mean_g</th>\n",
       "      <th>mean_b</th>\n",
       "      <th>stddev_r</th>\n",
       "      <th>stddev_g</th>\n",
       "      <th>stddev_b</th>\n",
       "      <th>contrast</th>\n",
       "      <th>correlation</th>\n",
       "      <th>inverse_difference_moments</th>\n",
       "      <th>entropy</th>\n",
       "    </tr>\n",
       "  </thead>\n",
       "  <tbody>\n",
       "    <tr>\n",
       "      <th>0</th>\n",
       "      <td>0</td>\n",
       "      <td>197484.0</td>\n",
       "      <td>3479.036038</td>\n",
       "      <td>1416</td>\n",
       "      <td>759</td>\n",
       "      <td>1.865613</td>\n",
       "      <td>5.442183</td>\n",
       "      <td>61.289480</td>\n",
       "      <td>6.395667</td>\n",
       "      <td>13.643413</td>\n",
       "      <td>4.388007</td>\n",
       "      <td>24.025329</td>\n",
       "      <td>40.200931</td>\n",
       "      <td>21.448412</td>\n",
       "      <td>12.639656</td>\n",
       "      <td>0.997666</td>\n",
       "      <td>0.911738</td>\n",
       "      <td>1.688689</td>\n",
       "    </tr>\n",
       "    <tr>\n",
       "      <th>1</th>\n",
       "      <td>0</td>\n",
       "      <td>101248.0</td>\n",
       "      <td>2490.381812</td>\n",
       "      <td>1190</td>\n",
       "      <td>130</td>\n",
       "      <td>9.153846</td>\n",
       "      <td>1.527931</td>\n",
       "      <td>61.255546</td>\n",
       "      <td>7.049316</td>\n",
       "      <td>9.232018</td>\n",
       "      <td>10.876066</td>\n",
       "      <td>33.816205</td>\n",
       "      <td>37.382221</td>\n",
       "      <td>46.479230</td>\n",
       "      <td>8.137424</td>\n",
       "      <td>0.997191</td>\n",
       "      <td>0.944818</td>\n",
       "      <td>1.193795</td>\n",
       "    </tr>\n",
       "    <tr>\n",
       "      <th>2</th>\n",
       "      <td>0</td>\n",
       "      <td>86570.5</td>\n",
       "      <td>2290.683327</td>\n",
       "      <td>1095</td>\n",
       "      <td>119</td>\n",
       "      <td>9.201681</td>\n",
       "      <td>1.505189</td>\n",
       "      <td>60.612219</td>\n",
       "      <td>3.434303</td>\n",
       "      <td>6.371511</td>\n",
       "      <td>2.644757</td>\n",
       "      <td>19.975699</td>\n",
       "      <td>29.057374</td>\n",
       "      <td>19.275050</td>\n",
       "      <td>8.553729</td>\n",
       "      <td>0.996610</td>\n",
       "      <td>0.959023</td>\n",
       "      <td>0.848758</td>\n",
       "    </tr>\n",
       "    <tr>\n",
       "      <th>3</th>\n",
       "      <td>0</td>\n",
       "      <td>190214.0</td>\n",
       "      <td>2856.479353</td>\n",
       "      <td>1318</td>\n",
       "      <td>254</td>\n",
       "      <td>5.188976</td>\n",
       "      <td>1.759976</td>\n",
       "      <td>42.896287</td>\n",
       "      <td>7.670415</td>\n",
       "      <td>13.303599</td>\n",
       "      <td>6.049157</td>\n",
       "      <td>28.822885</td>\n",
       "      <td>40.221845</td>\n",
       "      <td>26.948604</td>\n",
       "      <td>8.440041</td>\n",
       "      <td>0.998419</td>\n",
       "      <td>0.914331</td>\n",
       "      <td>1.673915</td>\n",
       "    </tr>\n",
       "    <tr>\n",
       "      <th>4</th>\n",
       "      <td>0</td>\n",
       "      <td>227727.0</td>\n",
       "      <td>2917.248904</td>\n",
       "      <td>1324</td>\n",
       "      <td>286</td>\n",
       "      <td>4.629371</td>\n",
       "      <td>1.662798</td>\n",
       "      <td>37.370804</td>\n",
       "      <td>8.992028</td>\n",
       "      <td>16.671171</td>\n",
       "      <td>6.294281</td>\n",
       "      <td>30.967158</td>\n",
       "      <td>45.040192</td>\n",
       "      <td>28.595326</td>\n",
       "      <td>8.641438</td>\n",
       "      <td>0.998568</td>\n",
       "      <td>0.898644</td>\n",
       "      <td>1.968082</td>\n",
       "    </tr>\n",
       "  </tbody>\n",
       "</table>\n",
       "</div>"
      ],
      "text/plain": [
       "   Unnamed: 0      area    perimeter  physiological_length  \\\n",
       "0           0  197484.0  3479.036038                  1416   \n",
       "1           0  101248.0  2490.381812                  1190   \n",
       "2           0   86570.5  2290.683327                  1095   \n",
       "3           0  190214.0  2856.479353                  1318   \n",
       "4           0  227727.0  2917.248904                  1324   \n",
       "\n",
       "   physiological_width  aspect_ratio  rectangularity  circularity    mean_r  \\\n",
       "0                  759      1.865613        5.442183    61.289480  6.395667   \n",
       "1                  130      9.153846        1.527931    61.255546  7.049316   \n",
       "2                  119      9.201681        1.505189    60.612219  3.434303   \n",
       "3                  254      5.188976        1.759976    42.896287  7.670415   \n",
       "4                  286      4.629371        1.662798    37.370804  8.992028   \n",
       "\n",
       "      mean_g     mean_b   stddev_r   stddev_g   stddev_b   contrast  \\\n",
       "0  13.643413   4.388007  24.025329  40.200931  21.448412  12.639656   \n",
       "1   9.232018  10.876066  33.816205  37.382221  46.479230   8.137424   \n",
       "2   6.371511   2.644757  19.975699  29.057374  19.275050   8.553729   \n",
       "3  13.303599   6.049157  28.822885  40.221845  26.948604   8.440041   \n",
       "4  16.671171   6.294281  30.967158  45.040192  28.595326   8.641438   \n",
       "\n",
       "   correlation  inverse_difference_moments   entropy  \n",
       "0     0.997666                    0.911738  1.688689  \n",
       "1     0.997191                    0.944818  1.193795  \n",
       "2     0.996610                    0.959023  0.848758  \n",
       "3     0.998419                    0.914331  1.673915  \n",
       "4     0.998568                    0.898644  1.968082  "
      ]
     },
     "execution_count": 43,
     "metadata": {},
     "output_type": "execute_result"
    }
   ],
   "source": [
    "# Load the dataset\n",
    "csv_path = \"data/Flavia_features.csv\"  # Update the path as necessary\n",
    "data = pd.read_csv(csv_path)\n",
    "\n",
    "# Display first few rows of the dataset\n",
    "data.head()"
   ]
  },
  {
   "cell_type": "markdown",
   "metadata": {},
   "source": [
    "## Exploratory Data Analysis (EDA)"
   ]
  },
  {
   "cell_type": "code",
   "execution_count": 44,
   "metadata": {},
   "outputs": [
    {
     "name": "stdout",
     "output_type": "stream",
     "text": [
      "Column names: Index(['Unnamed: 0', 'area', 'perimeter', 'physiological_length',\n",
      "       'physiological_width', 'aspect_ratio', 'rectangularity', 'circularity',\n",
      "       'mean_r', 'mean_g', 'mean_b', 'stddev_r', 'stddev_g', 'stddev_b',\n",
      "       'contrast', 'correlation', 'inverse_difference_moments', 'entropy'],\n",
      "      dtype='object')\n",
      "Missing Values in Dataset:\n",
      " Unnamed: 0                    0\n",
      "area                          0\n",
      "perimeter                     0\n",
      "physiological_length          0\n",
      "physiological_width           0\n",
      "aspect_ratio                  0\n",
      "rectangularity                0\n",
      "circularity                   0\n",
      "mean_r                        0\n",
      "mean_g                        0\n",
      "mean_b                        0\n",
      "stddev_r                      0\n",
      "stddev_g                      0\n",
      "stddev_b                      0\n",
      "contrast                      0\n",
      "correlation                   0\n",
      "inverse_difference_moments    0\n",
      "entropy                       0\n",
      "dtype: int64\n",
      "\n",
      "Label Distribution:\n",
      " 5.272300    2\n",
      "1.688689    1\n",
      "2.010329    1\n",
      "1.724590    1\n",
      "2.397750    1\n",
      "           ..\n",
      "5.854543    1\n",
      "4.473027    1\n",
      "6.538888    1\n",
      "6.793921    1\n",
      "6.208922    1\n",
      "Name: entropy, Length: 1906, dtype: int64\n",
      "\n",
      "Statistical Summary:\n",
      "        Unnamed: 0          area    perimeter  physiological_length  \\\n",
      "count      1907.0  1.907000e+03  1907.000000           1907.000000   \n",
      "mean          0.0  6.016568e+05  3731.278008           1313.665967   \n",
      "std           0.0  2.652587e+05   773.041487            239.442519   \n",
      "min           0.0  3.500000e+00     8.242641              4.000000   \n",
      "25%           0.0  4.143985e+05  3511.765440           1235.500000   \n",
      "50%           0.0  6.242620e+05  3828.329534           1385.000000   \n",
      "75%           0.0  8.200750e+05  4107.117817           1458.500000   \n",
      "max           0.0  1.210163e+06  6369.934661           1600.000000   \n",
      "\n",
      "       physiological_width  aspect_ratio  rectangularity  circularity  \\\n",
      "count          1907.000000   1907.000000     1907.000000  1907.000000   \n",
      "mean            880.113791      1.599259        3.012767    34.426939   \n",
      "std             235.109265      0.595495        4.620513    44.196391   \n",
      "min               3.000000      0.500000        1.202928    14.420508   \n",
      "25%             813.500000      1.358348        1.527000    18.927039   \n",
      "50%             963.000000      1.452236        1.730588    21.978121   \n",
      "75%            1040.000000      1.660940        2.453662    29.663388   \n",
      "max            1173.000000      9.201681       31.650397   303.414876   \n",
      "\n",
      "            mean_r       mean_g       mean_b     stddev_r     stddev_g  \\\n",
      "count  1907.000000  1907.000000  1907.000000  1907.000000  1907.000000   \n",
      "mean     36.935456    60.938210    28.096283    46.035567    69.538887   \n",
      "std      39.030569    45.541086    37.356487    16.380685    17.465969   \n",
      "min       3.069503     4.896947     0.995642    14.763071    14.452596   \n",
      "25%      17.915486    34.589586    11.060255    38.013958    58.351951   \n",
      "50%      27.039339    51.838401    17.724206    44.273370    70.847560   \n",
      "75%      39.800270    71.626109    26.643598    50.330392    81.678294   \n",
      "max     194.515163   228.540720   193.442008   120.816496   118.962258   \n",
      "\n",
      "          stddev_b     contrast  correlation  inverse_difference_moments  \\\n",
      "count  1907.000000  1907.000000  1907.000000                 1907.000000   \n",
      "mean     38.051639    27.415799     0.996724                    0.744398   \n",
      "std      20.371097    27.059494     0.002123                    0.101300   \n",
      "min      13.320071     1.927071     0.984216                    0.513266   \n",
      "25%      28.371802    10.357978     0.995657                    0.660823   \n",
      "50%      33.499864    19.506258     0.997165                    0.738424   \n",
      "75%      38.797948    32.960717     0.998229                    0.817906   \n",
      "max     126.046603   248.145593     0.999690                    0.972028   \n",
      "\n",
      "           entropy  \n",
      "count  1907.000000  \n",
      "mean      4.464436  \n",
      "std       1.633781  \n",
      "min       0.605089  \n",
      "25%       3.284466  \n",
      "50%       4.719334  \n",
      "75%       5.744746  \n",
      "max       8.107768  \n"
     ]
    },
    {
     "data": {
      "image/png": "[encoded data removed]",
      "text/plain": [
       "<Figure size 640x480 with 1 Axes>"
      ]
     },
     "metadata": {},
     "output_type": "display_data"
    }
   ],
   "source": [
    "print(\"Column names:\", data.columns)\n",
    "\n",
    "# Check for missing values\n",
    "print(\"Missing Values in Dataset:\\n\", data.isnull().sum())\n",
    "\n",
    "# Displaying the distribution of the label (after identifying correct label column name)\n",
    "label_column_name = \"entropy\"  \n",
    "print(\"\\nLabel Distribution:\\n\", data[label_column_name].value_counts())\n",
    "\n",
    "# Statistical summary of the dataset\n",
    "print(\"\\nStatistical Summary:\\n\", data.describe())\n",
    "\n",
    "# Visualizing the distribution of the labels\n",
    "sns.countplot(x=label_column_name, data=data)\n",
    "plt.title('Label Distribution')\n",
    "plt.show()"
   ]
  },
  {
   "cell_type": "markdown",
   "metadata": {},
   "source": [
    "## Data Preprocessing"
   ]
  },
  {
   "cell_type": "code",
   "execution_count": 45,
   "metadata": {},
   "outputs": [
    {
     "name": "stdout",
     "output_type": "stream",
     "text": [
      "Model Accuracy: 0.9808027923211169\n"
     ]
    }
   ],
   "source": [
    "# Define the target variable based on aspect_ratio\n",
    "# Classify aspect ratios greater than 2 as class 1, otherwise class 0\n",
    "data['label'] = (data['aspect_ratio'] > 2).astype(int)\n",
    "\n",
    "# Split features (X) and target (y)\n",
    "X = data.drop(\"label\", axis=1)\n",
    "y = data[\"label\"]\n",
    "\n",
    "# Split data into training and testing sets\n",
    "X_train, X_test, y_train, y_test = train_test_split(X, y, test_size=0.3, random_state=42)\n",
    "\n",
    "# Scale features\n",
    "scaler = StandardScaler()\n",
    "X_train_scaled = scaler.fit_transform(X_train)\n",
    "X_test_scaled = scaler.transform(X_test)\n",
    "\n",
    "# Train the SVM model\n",
    "svm_model = SVC(kernel=\"rbf\", C=10, gamma=0.1, random_state=42)\n",
    "svm_model.fit(X_train_scaled, y_train)\n",
    "\n",
    "# Evaluate the model\n",
    "y_pred = svm_model.predict(X_test_scaled)\n",
    "accuracy = accuracy_score(y_test, y_pred)\n",
    "print(\"Model Accuracy:\", accuracy)\n"
   ]
  },
  {
   "cell_type": "markdown",
   "metadata": {},
   "source": [
    "## Model Training"
   ]
  },
  {
   "cell_type": "code",
   "execution_count": 46,
   "metadata": {},
   "outputs": [
    {
     "data": {
      "text/plain": [
       "['scaler.pkl']"
      ]
     },
     "execution_count": 46,
     "metadata": {},
     "output_type": "execute_result"
    }
   ],
   "source": [
    "# Initialize and train the SVM classifier\n",
    "svm_model = SVC(kernel=\"rbf\", C=10, gamma=0.1, random_state=42)\n",
    "svm_model.fit(X_train_scaled, y_train)\n",
    "\n",
    "# Save the trained model and scaler\n",
    "joblib.dump(svm_model, \"svm_model.pkl\")\n",
    "joblib.dump(scaler, \"scaler.pkl\")\n"
   ]
  },
  {
   "cell_type": "markdown",
   "metadata": {},
   "source": [
    "## Model Evaluation"
   ]
  },
  {
   "cell_type": "code",
   "execution_count": 47,
   "metadata": {},
   "outputs": [
    {
     "name": "stdout",
     "output_type": "stream",
     "text": [
      "Model Accuracy: 0.9808027923211169\n",
      "\n",
      "Classification Report:\n",
      "               precision    recall  f1-score   support\n",
      "\n",
      "           0       0.99      0.99      0.99       485\n",
      "           1       0.95      0.92      0.94        88\n",
      "\n",
      "    accuracy                           0.98       573\n",
      "   macro avg       0.97      0.96      0.96       573\n",
      "weighted avg       0.98      0.98      0.98       573\n",
      "\n",
      "\n",
      "Confusion Matrix:\n",
      " [[481   4]\n",
      " [  7  81]]\n"
     ]
    },
    {
     "data": {
      "image/png": "[encoded data removed]",
      "text/plain": [
       "<Figure size 640x480 with 2 Axes>"
      ]
     },
     "metadata": {},
     "output_type": "display_data"
    }
   ],
   "source": [
    "# Predict the labels on the test set\n",
    "y_pred = svm_model.predict(X_test_scaled)\n",
    "\n",
    "# Evaluate the model's performance\n",
    "accuracy = accuracy_score(y_test, y_pred)\n",
    "print(\"Model Accuracy:\", accuracy)\n",
    "\n",
    "# Display Classification Report\n",
    "print(\"\\nClassification Report:\\n\", classification_report(y_test, y_pred))\n",
    "\n",
    "# Display Confusion Matrix\n",
    "conf_matrix = confusion_matrix(y_test, y_pred)\n",
    "print(\"\\nConfusion Matrix:\\n\", conf_matrix)\n",
    "\n",
    "# Visualizing the confusion matrix\n",
    "sns.heatmap(conf_matrix, annot=True, fmt='d', cmap='Blues', xticklabels=[0, 1], yticklabels=[0, 1])\n",
    "plt.title(\"Confusion Matrix\")\n",
    "plt.xlabel(\"Predicted\")\n",
    "plt.ylabel(\"Actual\")\n",
    "plt.show()\n"
   ]
  },
  {
   "cell_type": "markdown",
   "metadata": {},
   "source": [
    "## Findings and Accuracy"
   ]
  },
  {
   "cell_type": "code",
   "execution_count": 48,
   "metadata": {},
   "outputs": [
    {
     "name": "stdout",
     "output_type": "stream",
     "text": [
      "\n",
      "Model Accuracy: 0.9808027923211169\n",
      "Classification Report:\n",
      "              precision    recall  f1-score   support\n",
      "\n",
      "           0       0.99      0.99      0.99       485\n",
      "           1       0.95      0.92      0.94        88\n",
      "\n",
      "    accuracy                           0.98       573\n",
      "   macro avg       0.97      0.96      0.96       573\n",
      "weighted avg       0.98      0.98      0.98       573\n",
      "\n",
      "\n",
      "Confusion Matrix:\n",
      "[[481   4]\n",
      " [  7  81]]\n",
      "\n"
     ]
    }
   ],
   "source": [
    "# Displaying the findings\n",
    "findings = f\"\"\"\n",
    "Model Accuracy: {accuracy}\n",
    "Classification Report:\n",
    "{classification_report(y_test, y_pred)}\n",
    "\n",
    "Confusion Matrix:\n",
    "{conf_matrix}\n",
    "\"\"\"\n",
    "\n",
    "print(findings)\n",
    "\n",
    "# Save the findings to a text file\n",
    "with open(\"model_findings.txt\", \"w\") as f:\n",
    "    f.write(findings)\n"
   ]
  },
  {
   "cell_type": "code",
   "execution_count": 49,
   "metadata": {},
   "outputs": [
    {
     "data": {
      "image/png": "[encoded data removed]",
      "text/plain": [
       "<Figure size 640x480 with 1 Axes>"
      ]
     },
     "metadata": {},
     "output_type": "display_data"
    }
   ],
   "source": [
    "from sklearn.metrics import roc_curve, roc_auc_score\n",
    "import matplotlib.pyplot as plt\n",
    "\n",
    "y_prob = svm_model.decision_function(X_test_scaled)\n",
    "fpr, tpr, thresholds = roc_curve(y_test, y_prob)\n",
    "auc_score = roc_auc_score(y_test, y_prob)\n",
    "\n",
    "plt.plot(fpr, tpr, label=f\"AUC = {auc_score:.2f}\")\n",
    "plt.xlabel(\"False Positive Rate\")\n",
    "plt.ylabel(\"True Positive Rate\")\n",
    "plt.title(\"ROC Curve\")\n",
    "plt.legend()\n",
    "plt.show()\n"
   ]
  },
  {
   "cell_type": "markdown",
   "metadata": {},
   "source": [
    "## Feature Importance Analysis"
   ]
  },
  {
   "cell_type": "markdown",
   "metadata": {},
   "source": [
    "### Using PCA"
   ]
  },
  {
   "cell_type": "code",
   "execution_count": 50,
   "metadata": {},
   "outputs": [
    {
     "name": "stdout",
     "output_type": "stream",
     "text": [
      "Explained Variance Ratios: [0.4133076  0.18196879]\n"
     ]
    }
   ],
   "source": [
    "from sklearn.decomposition import PCA\n",
    "\n",
    "pca = PCA(n_components=2)\n",
    "X_train_pca = pca.fit_transform(X_train_scaled)\n",
    "X_test_pca = pca.transform(X_test_scaled)\n",
    "\n",
    "print(\"Explained Variance Ratios:\", pca.explained_variance_ratio_)\n"
   ]
  },
  {
   "cell_type": "markdown",
   "metadata": {},
   "source": [
    "### Permutational Feature Importance"
   ]
  },
  {
   "cell_type": "code",
   "execution_count": 51,
   "metadata": {},
   "outputs": [
    {
     "name": "stdout",
     "output_type": "stream",
     "text": [
      "Explained Variance Ratios: [0.4133076  0.18196879]\n"
     ]
    }
   ],
   "source": [
    "from sklearn.decomposition import PCA\n",
    "\n",
    "pca = PCA(n_components=2)\n",
    "X_train_pca = pca.fit_transform(X_train_scaled)\n",
    "X_test_pca = pca.transform(X_test_scaled)\n",
    "\n",
    "print(\"Explained Variance Ratios:\", pca.explained_variance_ratio_)\n"
   ]
  }
 ],
 "metadata": {
  "kernelspec": {
   "display_name": "base",
   "language": "python",
   "name": "python3"
  },
  "language_info": {
   "codemirror_mode": {
    "name": "ipython",
    "version": 3
   },
   "file_extension": ".py",
   "mimetype": "text/x-python",
   "name": "python",
   "nbconvert_exporter": "python",
   "pygments_lexer": "ipython3",
   "version": "3.9.13"
  }
 },
 "nbformat": 4,
 "nbformat_minor": 2
}
